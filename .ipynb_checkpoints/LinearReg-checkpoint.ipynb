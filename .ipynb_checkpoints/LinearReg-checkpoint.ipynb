{
 "cells": [
  {
   "cell_type": "markdown",
   "id": "typical-trade",
   "metadata": {},
   "source": [
    "## Vectorization of code"
   ]
  },
  {
   "cell_type": "code",
   "execution_count": 1,
   "id": "bibliographic-hayes",
   "metadata": {},
   "outputs": [],
   "source": [
    "%matplotlib inline\n",
    "\n",
    "import sys\n",
    "sys.path.append(\"/data/ajay/workspace/d2l_ai/Deep-Learning\")\n",
    "import tensorflow as tf\n",
    "import math\n",
    "import numpy as np\n",
    "import time\n",
    "from d2l import Timer\n",
    "from d2l import synthetic_data\n",
    "import matplotlib.pyplot as plt"
   ]
  },
  {
   "cell_type": "code",
   "execution_count": 2,
   "id": "differential-claim",
   "metadata": {},
   "outputs": [],
   "source": [
    "n = 10000\n",
    "a = np.ones(n)\n",
    "b = np.ones(n)"
   ]
  },
  {
   "cell_type": "code",
   "execution_count": 3,
   "id": "binding-irish",
   "metadata": {},
   "outputs": [
    {
     "data": {
      "text/plain": [
       "'3.58241 sec'"
      ]
     },
     "execution_count": 3,
     "metadata": {},
     "output_type": "execute_result"
    }
   ],
   "source": [
    "c = tf.Variable(np.zeros(n))\n",
    "timer = Timer()\n",
    "for i in range(n):\n",
    "    c[i].assign(a[i]+b[i])\n",
    "f'{timer.stop():.5f} sec'"
   ]
  },
  {
   "cell_type": "code",
   "execution_count": 4,
   "id": "proper-remedy",
   "metadata": {},
   "outputs": [
    {
     "data": {
      "text/plain": [
       "'0.00035 sec'"
      ]
     },
     "execution_count": 4,
     "metadata": {},
     "output_type": "execute_result"
    }
   ],
   "source": [
    "timer.start()\n",
    "d = a+b\n",
    "f'{timer.stop():.5f} sec'"
   ]
  },
  {
   "cell_type": "markdown",
   "id": "acknowledged-toilet",
   "metadata": {},
   "source": [
    "## Normal Distribution and Squared Loss"
   ]
  },
  {
   "cell_type": "code",
   "execution_count": 5,
   "id": "entitled-miracle",
   "metadata": {},
   "outputs": [],
   "source": [
    "def normal(x,mu,sigma):\n",
    "    p = 1/math.sqrt(2*math.pi*sigma**2)\n",
    "    return p*np.exp(-0.5/sigma**2*(x-mu)**2)"
   ]
  },
  {
   "cell_type": "code",
   "execution_count": 6,
   "id": "supposed-symphony",
   "metadata": {},
   "outputs": [
    {
     "data": {
      "text/plain": [
       "Text(0.5, 1.0, 'Normal Distribution')"
      ]
     },
     "execution_count": 6,
     "metadata": {},
     "output_type": "execute_result"
    },
    {
     "data": {
      "image/png": "[encoded data removed]",
      "text/plain": [
       "<Figure size 432x288 with 1 Axes>"
      ]
     },
     "metadata": {
      "needs_background": "light"
     },
     "output_type": "display_data"
    }
   ],
   "source": [
    "x = np.arange(-7,7,0.01)\n",
    "\n",
    "params = [(0,1),(0,2),(3,1)]\n",
    "\n",
    "fig,ax = plt.subplots(1,1)\n",
    "ax.plot(x,normal(x,params[0][0],params[0][1]))\n",
    "ax.plot(x,normal(x,params[1][0],params[1][1]))\n",
    "ax.plot(x,normal(x,params[2][0],params[2][1]))\n",
    "ax.legend([f'mean {mu}, std {sigma}' for mu,sigma in params])\n",
    "ax.set_title('Normal Distribution')"
   ]
  },
  {
   "cell_type": "markdown",
   "id": "pediatric-system",
   "metadata": {},
   "source": [
    "## Linear Regression from scratch"
   ]
  },
  {
   "cell_type": "code",
   "execution_count": 7,
   "id": "instrumental-brighton",
   "metadata": {},
   "outputs": [],
   "source": [
    "%matplotlib inline\n",
    "import tensorflow as tf\n",
    "import random"
   ]
  },
  {
   "cell_type": "code",
   "execution_count": 8,
   "id": "controversial-timber",
   "metadata": {},
   "outputs": [],
   "source": [
    "def synthetic_data(w,b,num_examples):\n",
    "    \n",
    "    X = tf.zeros((num_examples,w.shape[0]))\n",
    "    X += tf.random.normal(shape=X.shape)\n",
    "    y = tf.matmul(X,tf.reshape(w,(-1,1)))+b\n",
    "    y += tf.random.normal(shape=y.shape,stddev=0.01)\n",
    "    y = tf.reshape(y,(-1,1))\n",
    "    return X,y"
   ]
  },
  {
   "cell_type": "code",
   "execution_count": 9,
   "id": "planned-liberal",
   "metadata": {},
   "outputs": [],
   "source": [
    "true_w = tf.constant([2,-3.4])\n",
    "true_b = tf.constant(4.2)\n",
    "\n",
    "features, labels = synthetic_data(true_w, true_b, 1000)"
   ]
  },
  {
   "cell_type": "code",
   "execution_count": 10,
   "id": "gothic-context",
   "metadata": {},
   "outputs": [
    {
     "data": {
      "text/plain": [
       "<tf.Tensor: shape=(2,), dtype=float32, numpy=array([-0.5537998 ,  0.42962557], dtype=float32)>"
      ]
     },
     "execution_count": 10,
     "metadata": {},
     "output_type": "execute_result"
    }
   ],
   "source": [
    "features[0]"
   ]
  },
  {
   "cell_type": "code",
   "execution_count": 11,
   "id": "regulated-realtor",
   "metadata": {},
   "outputs": [
    {
     "data": {
      "text/plain": [
       "<tf.Tensor: shape=(1,), dtype=float32, numpy=array([1.6396043], dtype=float32)>"
      ]
     },
     "execution_count": 11,
     "metadata": {},
     "output_type": "execute_result"
    }
   ],
   "source": [
    "labels[0]"
   ]
  },
  {
   "cell_type": "code",
   "execution_count": 12,
   "id": "rocky-southeast",
   "metadata": {},
   "outputs": [
    {
     "data": {
      "text/plain": [
       "<matplotlib.collections.PathCollection at 0x7fe439d00950>"
      ]
     },
     "execution_count": 12,
     "metadata": {},
     "output_type": "execute_result"
    },
    {
     "data": {
      "image/png": "[encoded data removed]",
      "text/plain": [
       "<Figure size 432x288 with 1 Axes>"
      ]
     },
     "metadata": {
      "needs_background": "light"
     },
     "output_type": "display_data"
    }
   ],
   "source": [
    "plt.scatter(features[:,1].numpy(),labels.numpy())"
   ]
  },
  {
   "cell_type": "code",
   "execution_count": 13,
   "id": "bound-mouth",
   "metadata": {},
   "outputs": [],
   "source": [
    "def data_iter(batch_size,features,labels):\n",
    "    \n",
    "    num_examples = len(features)\n",
    "    indices = list(range(num_examples))\n",
    "    random.shuffle(indices)\n",
    "    for i in range(0,num_examples,batch_size):\n",
    "        j = tf.constant(indices[i:min(i+batch_size,num_examples)])\n",
    "        yield tf.gather(features,j), tf.gather(labels,j)"
   ]
  },
  {
   "cell_type": "code",
   "execution_count": 14,
   "id": "ongoing-demographic",
   "metadata": {},
   "outputs": [
    {
     "name": "stdout",
     "output_type": "stream",
     "text": [
      "tf.Tensor(\n",
      "[[-0.10510956  0.7701906 ]\n",
      " [ 0.23687142  1.2476794 ]\n",
      " [-0.6811213  -2.325434  ]\n",
      " [-0.5933775   0.1772067 ]\n",
      " [ 0.75201046  0.39541823]\n",
      " [ 1.0077909  -0.3478395 ]\n",
      " [ 0.21059057  2.1395583 ]\n",
      " [ 0.10381759 -0.49628907]\n",
      " [ 0.7607516  -0.04319603]\n",
      " [ 1.3289498  -0.9118397 ]], shape=(10, 2), dtype=float32)\n",
      "tf.Tensor(\n",
      "[[ 1.3767431 ]\n",
      " [ 0.42952943]\n",
      " [10.74251   ]\n",
      " [ 2.411885  ]\n",
      " [ 4.339373  ]\n",
      " [ 7.3980336 ]\n",
      " [-2.6654823 ]\n",
      " [ 6.0736475 ]\n",
      " [ 5.8721743 ]\n",
      " [ 9.964865  ]], shape=(10, 1), dtype=float32)\n"
     ]
    }
   ],
   "source": [
    "batch_size = 10\n",
    "\n",
    "for X,y in data_iter(batch_size,features,labels):\n",
    "    print (X)\n",
    "    print (y)\n",
    "    break"
   ]
  },
  {
   "cell_type": "code",
   "execution_count": 15,
   "id": "unlimited-error",
   "metadata": {},
   "outputs": [],
   "source": [
    "w = tf.Variable(tf.random.normal(shape=(2,1),mean=0,stddev=0.01),trainable=True)\n",
    "b = tf.Variable(tf.zeros(1),trainable=True)"
   ]
  },
  {
   "cell_type": "code",
   "execution_count": 16,
   "id": "catholic-foster",
   "metadata": {},
   "outputs": [],
   "source": [
    "def linreg(X,w,b):\n",
    "    return tf.matmul(X,w)+b"
   ]
  },
  {
   "cell_type": "code",
   "execution_count": 17,
   "id": "included-contributor",
   "metadata": {},
   "outputs": [],
   "source": [
    "def squared_loss(y_hat, y):\n",
    "    return (y_hat - tf.reshape(y,y_hat.shape))**2 / 2"
   ]
  },
  {
   "cell_type": "code",
   "execution_count": 18,
   "id": "religious-setup",
   "metadata": {},
   "outputs": [],
   "source": [
    "def sgd(params,grads,lr,batch_size):\n",
    "    for param,grad in zip(params,grads):\n",
    "        param.assign_sub(lr*grad/batch_size)"
   ]
  },
  {
   "cell_type": "code",
   "execution_count": 19,
   "id": "established-hundred",
   "metadata": {},
   "outputs": [
    {
     "name": "stdout",
     "output_type": "stream",
     "text": [
      "epochs is 0 and Training loss is 0.041607532650232315\n",
      "epochs is 1 and Training loss is 0.00015216029714792967\n",
      "epochs is 2 and Training loss is 4.666180393542163e-05\n"
     ]
    }
   ],
   "source": [
    "lr = 0.03\n",
    "num_epochs = 3\n",
    "net = linreg\n",
    "loss = squared_loss\n",
    "\n",
    "for epoch in range(num_epochs):\n",
    "    for X,y in data_iter(batch_size, features, labels):\n",
    "        with tf.GradientTape() as tape:\n",
    "            l = loss(net(X,w,b),y)\n",
    "        dw, db = tape.gradient(l,[w, b])\n",
    "        sgd([w, b],[dw, db],lr,batch_size)\n",
    "    train_l = loss(net(features,w,b),labels)\n",
    "    print (f'epochs is {epoch} and Training loss is {tf.reduce_mean(train_l)}')"
   ]
  },
  {
   "cell_type": "code",
   "execution_count": 20,
   "id": "regional-windsor",
   "metadata": {},
   "outputs": [
    {
     "name": "stdout",
     "output_type": "stream",
     "text": [
      "error in estimating w: [ 0.00017405 -0.00069618]\n",
      "error in estimating b: [0.00110865]\n"
     ]
    }
   ],
   "source": [
    "print(f'error in estimating w: {true_w - tf.reshape(w, true_w.shape)}')\n",
    "print(f'error in estimating b: {true_b - b}')"
   ]
  },
  {
   "cell_type": "markdown",
   "id": "affiliated-courtesy",
   "metadata": {},
   "source": [
    "## Linear Regression Concise Implementation"
   ]
  },
  {
   "cell_type": "code",
   "execution_count": 21,
   "id": "appropriate-grade",
   "metadata": {},
   "outputs": [],
   "source": [
    "import tensorflow as tf\n",
    "import numpy as np\n",
    "from d2l import synthetic_data"
   ]
  },
  {
   "cell_type": "code",
   "execution_count": 22,
   "id": "optional-lincoln",
   "metadata": {},
   "outputs": [],
   "source": [
    "true_w = tf.constant([2,-3.4])\n",
    "true_b = 4.2\n",
    "num_examples = 1000\n",
    "data_gen = synthetic_data(true_w,true_b,num_examples)\n",
    "features, labels = data_gen.generate_data()"
   ]
  },
  {
   "cell_type": "code",
   "execution_count": 23,
   "id": "greatest-concern",
   "metadata": {},
   "outputs": [],
   "source": [
    "def load_array(data_arrays,batch_size,is_train=True):\n",
    "    \n",
    "    dataset = tf.data.Dataset.from_tensor_slices(data_arrays)\n",
    "    if is_train:\n",
    "        dataset = dataset.shuffle(buffer_size=1000)\n",
    "    dataset = dataset.batch(batch_size)\n",
    "    return dataset"
   ]
  },
  {
   "cell_type": "code",
   "execution_count": 24,
   "id": "distributed-ivory",
   "metadata": {},
   "outputs": [],
   "source": [
    "batch_size = 10\n",
    "data_iter = load_array((features,labels),batch_size)"
   ]
  },
  {
   "cell_type": "code",
   "execution_count": 25,
   "id": "abstract-guide",
   "metadata": {},
   "outputs": [
    {
     "data": {
      "text/plain": [
       "(<tf.Tensor: shape=(10, 2), dtype=float32, numpy=\n",
       " array([[-1.3513393 ,  0.3663195 ],\n",
       "        [ 0.27327818, -1.1277746 ],\n",
       "        [ 1.1103438 , -1.1754763 ],\n",
       "        [-2.2193334 ,  0.12869407],\n",
       "        [ 0.709174  ,  0.9078908 ],\n",
       "        [-1.4761556 ,  0.4543346 ],\n",
       "        [-0.7434318 , -0.46725303],\n",
       "        [ 1.1401778 ,  0.20353983],\n",
       "        [-0.8709702 ,  0.03220169],\n",
       "        [-0.25144517, -2.3142426 ]], dtype=float32)>,\n",
       " <tf.Tensor: shape=(10, 1), dtype=float32, numpy=\n",
       " array([[ 0.24265161],\n",
       "        [ 8.5841    ],\n",
       "        [10.417996  ],\n",
       "        [-0.6711614 ],\n",
       "        [ 2.5304835 ],\n",
       "        [-0.30581722],\n",
       "        [ 4.2993107 ],\n",
       "        [ 5.7925053 ],\n",
       "        [ 2.33354   ],\n",
       "        [11.562389  ]], dtype=float32)>)"
      ]
     },
     "execution_count": 25,
     "metadata": {},
     "output_type": "execute_result"
    }
   ],
   "source": [
    "next(iter(data_iter))"
   ]
  },
  {
   "cell_type": "code",
   "execution_count": 26,
   "id": "clean-samba",
   "metadata": {},
   "outputs": [],
   "source": [
    "net = tf.keras.Sequential()\n",
    "net.add(tf.keras.layers.Dense(1))"
   ]
  },
  {
   "cell_type": "code",
   "execution_count": 29,
   "id": "endangered-mobile",
   "metadata": {},
   "outputs": [],
   "source": [
    "intializer = tf.initializers.RandomNormal(stddev=0.01)\n",
    "net = tf.keras.Sequential()\n",
    "net.add(tf.keras.layers.Dense(1,kernel_initializer=intializer))"
   ]
  },
  {
   "cell_type": "code",
   "execution_count": 31,
   "id": "hawaiian-democrat",
   "metadata": {},
   "outputs": [],
   "source": [
    "loss = tf.keras.losses.MeanSquaredError()"
   ]
  },
  {
   "cell_type": "code",
   "execution_count": 33,
   "id": "relative-orchestra",
   "metadata": {},
   "outputs": [],
   "source": [
    "trainer = tf.keras.optimizers.SGD(learning_rate=0.01)"
   ]
  },
  {
   "cell_type": "code",
   "execution_count": 36,
   "id": "meaning-theorem",
   "metadata": {},
   "outputs": [
    {
     "name": "stdout",
     "output_type": "stream",
     "text": [
      "epoch 1, loss0.000096\n",
      "epoch 2, loss0.000093\n",
      "epoch 3, loss0.000093\n"
     ]
    }
   ],
   "source": [
    "num_epochs=3\n",
    "\n",
    "for epoch in range(num_epochs):\n",
    "    for X,y in data_iter:\n",
    "        with tf.GradientTape() as tape:\n",
    "            l = loss(net(X,training=True),y)\n",
    "        grads = tape.gradient(l,net.trainable_variables)\n",
    "        trainer.apply_gradients(zip(grads,net.trainable_variables))\n",
    "    l = loss(net(features),labels)\n",
    "    print (f'epoch {epoch+1}, loss{l:f}')"
   ]
  },
  {
   "cell_type": "code",
   "execution_count": 38,
   "id": "ranging-evaluation",
   "metadata": {},
   "outputs": [
    {
     "name": "stdout",
     "output_type": "stream",
     "text": [
      "error in estimating w tf.Tensor([0.00050688 0.00041485], shape=(2,), dtype=float32)\n",
      "error in estimating b [0.0006299]\n"
     ]
    }
   ],
   "source": [
    "w = net.get_weights()[0]\n",
    "print('error in estimating w', true_w - tf.reshape(w, true_w.shape))\n",
    "b = net.get_weights()[1]\n",
    "print('error in estimating b', true_b - b)"
   ]
  },
  {
   "cell_type": "code",
   "execution_count": null,
   "id": "quiet-choice",
   "metadata": {},
   "outputs": [],
   "source": []
  }
 ],
 "metadata": {
  "kernelspec": {
   "display_name": "Python 3",
   "language": "python",
   "name": "python3"
  },
  "language_info": {
   "codemirror_mode": {
    "name": "ipython",
    "version": 3
   },
   "file_extension": ".py",
   "mimetype": "text/x-python",
   "name": "python",
   "nbconvert_exporter": "python",
   "pygments_lexer": "ipython3",
   "version": "3.7.7"
  }
 },
 "nbformat": 4,
 "nbformat_minor": 5
}
